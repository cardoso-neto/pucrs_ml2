{
 "cells": [
  {
   "cell_type": "code",
   "execution_count": 1,
   "metadata": {},
   "outputs": [],
   "source": [
    "%matplotlib inline"
   ]
  },
  {
   "cell_type": "code",
   "execution_count": 2,
   "metadata": {},
   "outputs": [],
   "source": [
    "import random\n",
    "from typing import List, Tuple\n",
    "\n",
    "import numpy as np\n",
    "import torch\n",
    "from torch import nn, optim\n",
    "import torchvision\n",
    "from matplotlib import pyplot as plt\n",
    "from torchvision import transforms\n",
    "from torchvision import datasets"
   ]
  },
  {
   "cell_type": "code",
   "execution_count": 46,
   "metadata": {},
   "outputs": [],
   "source": [
    "# Our code is generic enough to run both MNIST datasets.\n",
    "# this flag decides which one to run.\n",
    "fashion = True\n",
    "if fashion:\n",
    "    chosen_dataset = datasets.FashionMNIST\n",
    "else:\n",
    "    chosen_dataset = datasets.MNIST"
   ]
  },
  {
   "cell_type": "code",
   "execution_count": 48,
   "metadata": {},
   "outputs": [],
   "source": [
    "def get_stats(loader):\n",
    "    mean = 0.\n",
    "    std = 0.\n",
    "    for images, _ in loader:\n",
    "        # batch size (the last batch can have smaller size!)\n",
    "        batch_samples = images.size(0) \n",
    "        images = images.view(batch_samples, images.size(1), -1)\n",
    "        mean += images.mean(2).sum(0)\n",
    "        std += images.std(2).sum(0)\n",
    "\n",
    "    mean /= len(loader.dataset)\n",
    "    std /= len(loader.dataset)\n",
    "    return mean, std\n",
    "\n",
    "\n",
    "def get_loaders(batch_size):\n",
    "    train_transforms = transforms.Compose([\n",
    "        transforms.RandomHorizontalFlip(),\n",
    "        transforms.ToTensor(),\n",
    "        transforms.Normalize((0.28604069352149963,), (0.32045337557792664,)), # fash\n",
    "        # transforms.Normalize((0.13066062331199646,), (0.301504522562027,)), # mnist\n",
    "    ])\n",
    "\n",
    "    test_transforms = transforms.Compose([\n",
    "        transforms.ToTensor(),\n",
    "        transforms.Normalize((0.28604069352149963,), (0.32045337557792664,)), # fash\n",
    "        # transforms.Normalize((0.13066062331199646,), (0.301504522562027,)), # mnist\n",
    "    ])\n",
    "\n",
    "    train_loader = torch.utils.data.DataLoader(\n",
    "        dataset=chosen_dataset(\n",
    "            root='../data', \n",
    "            train=True, \n",
    "            download=True,\n",
    "            transform=train_transforms,\n",
    "        ),\n",
    "        batch_size=batch_size, \n",
    "        shuffle=True\n",
    "    )\n",
    "\n",
    "    test_loader = torch.utils.data.DataLoader(\n",
    "        dataset=chosen_dataset(\n",
    "            root='../data', \n",
    "            train=False, \n",
    "            download=True,\n",
    "            transform=test_transforms,\n",
    "        ),\n",
    "        batch_size=batch_size, \n",
    "        shuffle=False\n",
    "    )\n",
    "    return train_loader, test_loader\n",
    "\n",
    "def train_epoch(\n",
    "    model, \n",
    "    device, \n",
    "    train_loader, \n",
    "    optimizer, \n",
    "    criterion, \n",
    "    epoch, \n",
    "    log_interval\n",
    "):\n",
    "    model.train()\n",
    "    history = []\n",
    "    for batch_idx, (data, target) in enumerate(train_loader):\n",
    "        data, target = data.to(device), target.to(device)\n",
    "        optimizer.zero_grad()\n",
    "        output = model(data)\n",
    "        loss = criterion(output, target)\n",
    "        loss.backward()\n",
    "        optimizer.step()\n",
    "        if batch_idx % log_interval == 0:\n",
    "            print('Train Epoch: {} [{}/{} ({:.0f}%)]\\tLoss: {:.6f}'.format(\n",
    "                epoch,\n",
    "                batch_idx * len(data),\n",
    "                len(train_loader.dataset),\n",
    "                100. * batch_idx / len(train_loader),\n",
    "                loss.item()\n",
    "            ))\n",
    "\n",
    "\n",
    "def test(\n",
    "    model, \n",
    "    device, \n",
    "    criterion, \n",
    "    test_loader\n",
    "):\n",
    "    model.eval()\n",
    "    test_loss = 0\n",
    "    correct = 0\n",
    "    with torch.no_grad():\n",
    "        for data, target in test_loader:\n",
    "            data, target = data.to(device), target.to(device)\n",
    "            output = model(data)\n",
    "            test_loss += criterion(output, target).item() # sum up batch loss\n",
    "            # get the index of the max log-probability\n",
    "            pred = output.max(dim=1, keepdim=True)[1]\n",
    "            correct += pred.eq(target.view_as(pred)).sum().item()\n",
    "\n",
    "    test_loss /= len(test_loader.dataset)\n",
    "    accuracy = 100. * correct / len(test_loader.dataset)\n",
    "    print('Test set: Average loss: {:.4f}, Accuracy: {}/{} ({:.2f}%)\\n'.format(\n",
    "        test_loss,\n",
    "        correct,\n",
    "        len(test_loader.dataset),\n",
    "        accuracy\n",
    "    ))\n",
    "    return accuracy\n",
    "\n",
    "\n",
    "def train(\n",
    "    model,\n",
    "    train_loader,\n",
    "    test_loader,\n",
    "    device,\n",
    "    lr,\n",
    "    nb_epochs=3,\n",
    "    log_interval=100,\n",
    "):\n",
    "    optimizer = optim.SGD(model.parameters(), lr=lr, momentum=0.9)\n",
    "    criterion = nn.CrossEntropyLoss().to(device)\n",
    "\n",
    "    for epoch in range(1, nb_epochs + 1):\n",
    "        print('\\n* * * Training * * *')\n",
    "        train_epoch(\n",
    "            model=model, \n",
    "            device=device, \n",
    "            train_loader=train_loader, \n",
    "            optimizer=optimizer, \n",
    "            criterion=criterion, \n",
    "            epoch=epoch, \n",
    "            log_interval=log_interval\n",
    "        )\n",
    "        print('\\n* * * Evaluating * * *')\n",
    "        acc = test(model, device, criterion, test_loader)        \n",
    "    \n",
    "    return acc\n",
    "\n",
    "def check_input(model, device):\n",
    "    \"\"\"\n",
    "    Make sure the model outputs a correctly shaped tensor\n",
    "    which is (batch_size, number_of_classes)\n",
    "    \"\"\"\n",
    "    dummy_data = torch.zeros(5, 1, 28, 28).to(device)\n",
    "    dummy_pred = model(dummy_data)\n",
    "    error_message = (\n",
    "        '\\nOutput expected: (batch_size, 10)'\n",
    "        f'\\nOutput found   : {dummy_pred.shape}'\n",
    "    )\n",
    "    assert dummy_pred.shape == (5, 10), error_message\n",
    "    print('Passed.')\n",
    "    return dummy_pred"
   ]
  },
  {
   "cell_type": "code",
   "execution_count": 49,
   "metadata": {},
   "outputs": [],
   "source": [
    "batch_size = 32\n",
    "device_name = 'cuda'\n",
    "nb_epochs = 3\n",
    "log_interval = 500\n",
    "lr = 1e-3"
   ]
  },
  {
   "cell_type": "code",
   "execution_count": 50,
   "metadata": {},
   "outputs": [],
   "source": [
    "device = torch.device(device_name)\n",
    "train_loader, test_loader = get_loaders(batch_size=batch_size)"
   ]
  },
  {
   "cell_type": "code",
   "execution_count": 51,
   "metadata": {},
   "outputs": [
    {
     "name": "stdout",
     "output_type": "stream",
     "text": [
      "Train size:  torch.Size([60000, 28, 28]) torch.Size([60000])\n",
      "Test size :  torch.Size([10000, 28, 28]) torch.Size([10000])\n"
     ]
    }
   ],
   "source": [
    "print(\n",
    "    'Train size: ', \n",
    "    train_loader.dataset.data.shape, \n",
    "    train_loader.dataset.targets.shape,\n",
    ")\n",
    "print(\n",
    "    'Test size : ', \n",
    "    test_loader.dataset.data.shape, \n",
    "    test_loader.dataset.targets.shape,\n",
    ")"
   ]
  },
  {
   "cell_type": "code",
   "execution_count": 52,
   "metadata": {},
   "outputs": [
    {
     "data": {
      "image/png": "[encoded data removed]",
      "text/plain": [
       "<Figure size 432x288 with 5 Axes>"
      ]
     },
     "metadata": {
      "needs_background": "light"
     },
     "output_type": "display_data"
    }
   ],
   "source": [
    "classes = [\n",
    "    'T-shirt/top',\n",
    "    'Trouser',\n",
    "    'Pullover',\n",
    "    'Dress',\n",
    "    'Coat',\n",
    "    'Sandal',\n",
    "    'Shirt',\n",
    "    'Sneaker',\n",
    "    'Bag',\n",
    "    'Ankle Boot'\n",
    "]\n",
    "pics = random.sample(range(len(train_loader)), 5)\n",
    "fig, axes = plt.subplots(1, 5)\n",
    "for i, axis in zip(pics, axes):\n",
    "    axis.imshow(train_loader.dataset.data[i], cmap='gray')\n",
    "    title = train_loader.dataset.targets[i].item()\n",
    "    if fashion:\n",
    "        title = classes[title]\n",
    "    axis.set_title(title)"
   ]
  },
  {
   "cell_type": "code",
   "execution_count": 53,
   "metadata": {},
   "outputs": [
    {
     "name": "stdout",
     "output_type": "stream",
     "text": [
      "Instance Example: torch.Size([32, 1, 28, 28]) torch.Size([32])\n"
     ]
    }
   ],
   "source": [
    "instance: Tuple[torch.Tensor, torch.Tensor] = next(iter(train_loader))\n",
    "print('Instance Example:', instance[0].shape, instance[1].shape)"
   ]
  },
  {
   "cell_type": "markdown",
   "metadata": {},
   "source": [
    "### Multilayer Perceptron\n",
    "\n",
    "Three fully connected layers:\n",
    "A layer 784 outputs (28 * 28, the size of the image),\n",
    "\n",
    "a hidden layer with 350 outputs; roughly half the previous layer so we can start downsapling our \"image\",\n",
    "\n",
    "and the final layer with 10 outputs that are our classes.\n"
   ]
  },
  {
   "cell_type": "code",
   "execution_count": 440,
   "metadata": {},
   "outputs": [
    {
     "name": "stdout",
     "output_type": "stream",
     "text": [
      "Passed.\n",
      "MLPNet(\n",
      "  (lin1): Linear(in_features=784, out_features=784, bias=True)\n",
      "  (lin2): Linear(in_features=784, out_features=350, bias=True)\n",
      "  (fc): Linear(in_features=350, out_features=10, bias=True)\n",
      "  (relu): ReLU(inplace)\n",
      ")\n"
     ]
    }
   ],
   "source": [
    "class MLPNet(nn.Module):\n",
    "    def __init__(self):\n",
    "        super().__init__()\n",
    "        self.lin1 = nn.Linear(in_features=784, out_features=784)\n",
    "        self.lin2 = nn.Linear(in_features=784, out_features=350)\n",
    "        self.fc = nn.Linear(in_features=350, out_features=10)\n",
    "        self.relu = nn.ReLU(inplace=True)\n",
    "        \n",
    "    def forward(self, x):\n",
    "        x = x.view(x.shape[0], 28 * 28)\n",
    "        x = self.lin1(x)\n",
    "        x = self.relu(x)\n",
    "        x = self.lin2(x)\n",
    "        x = self.relu(x)\n",
    "        out = self.fc(x)\n",
    "        return out\n",
    "\n",
    "\n",
    "mlpnet = MLPNet().to(device)\n",
    "dummy_pred = check_input(mlpnet, device)\n",
    "print(mlpnet)"
   ]
  },
  {
   "cell_type": "code",
   "execution_count": 442,
   "metadata": {},
   "outputs": [
    {
     "name": "stdout",
     "output_type": "stream",
     "text": [
      "\n",
      "* * * Training * * *\n",
      "Train Epoch: 1 [0/60000 (0%)]\tLoss: 0.321942\n",
      "Train Epoch: 1 [16000/60000 (27%)]\tLoss: 0.393759\n",
      "Train Epoch: 1 [32000/60000 (53%)]\tLoss: 0.191554\n",
      "Train Epoch: 1 [48000/60000 (80%)]\tLoss: 0.212495\n",
      "\n",
      "* * * Evaluating * * *\n",
      "Test set: Average loss: 0.0126, Accuracy: 8560/10000 (85.60%)\n",
      "\n",
      "\n",
      "* * * Training * * *\n",
      "Train Epoch: 2 [0/60000 (0%)]\tLoss: 0.445318\n",
      "Train Epoch: 2 [16000/60000 (27%)]\tLoss: 0.401945\n",
      "Train Epoch: 2 [32000/60000 (53%)]\tLoss: 0.546911\n",
      "Train Epoch: 2 [48000/60000 (80%)]\tLoss: 0.208726\n",
      "\n",
      "* * * Evaluating * * *\n",
      "Test set: Average loss: 0.0125, Accuracy: 8585/10000 (85.85%)\n",
      "\n",
      "\n",
      "* * * Training * * *\n",
      "Train Epoch: 3 [0/60000 (0%)]\tLoss: 0.402490\n",
      "Train Epoch: 3 [16000/60000 (27%)]\tLoss: 0.274388\n",
      "Train Epoch: 3 [32000/60000 (53%)]\tLoss: 0.229208\n",
      "Train Epoch: 3 [48000/60000 (80%)]\tLoss: 0.454045\n",
      "\n",
      "* * * Evaluating * * *\n",
      "Test set: Average loss: 0.0124, Accuracy: 8596/10000 (85.96%)\n",
      "\n",
      "Final acc: 85.96%\n"
     ]
    }
   ],
   "source": [
    "acc = train(mlpnet, train_loader, test_loader, device, 1e-4, nb_epochs, log_interval)\n",
    "print(f'Final acc: {acc:.2f}%')"
   ]
  },
  {
   "cell_type": "markdown",
   "metadata": {},
   "source": [
    "### An Inception layer, but with fully connected layers.\n",
    "Inspired by the now world-famous paper by Google employees [InceptionV1](https://arxiv.org/pdf/1409.4842.pdf) that uses parallel convolutions to make better use of the immense parallelization capabilities GPUs provide to start growing neural networks girth-wise instead of only depth-wise, we created this LinearInception module.\n",
    "We thought this would give our model a bigger receptive field and that that would give us a huge gain in accuracy, but we were wrong."
   ]
  },
  {
   "cell_type": "code",
   "execution_count": 446,
   "metadata": {},
   "outputs": [
    {
     "name": "stdout",
     "output_type": "stream",
     "text": [
      "Passed.\n",
      "InceptionMLPNet(\n",
      "  (lin1): Linear(in_features=784, out_features=784, bias=True)\n",
      "  (lin2): LinearInception(\n",
      "    (fcs): ModuleList(\n",
      "      (0): Linear(in_features=784, out_features=350, bias=True)\n",
      "      (1): Linear(in_features=784, out_features=350, bias=True)\n",
      "      (2): Linear(in_features=784, out_features=350, bias=True)\n",
      "    )\n",
      "    (fc_aggregate): Linear(in_features=1050, out_features=350, bias=True)\n",
      "  )\n",
      "  (lin_end): Linear(in_features=350, out_features=10, bias=True)\n",
      "  (relu): ReLU(inplace)\n",
      "  (dropout): Dropout(p=0.1)\n",
      ")\n"
     ]
    }
   ],
   "source": [
    "class LinearInception(nn.Module):\n",
    "    def __init__(self, in_features, out_features, cardinality):\n",
    "        super().__init__()\n",
    "        self.card = cardinality\n",
    "        self.fcs = nn.ModuleList([\n",
    "            nn.Linear(in_features=in_features, out_features=out_features)\n",
    "            for _ in range(cardinality)\n",
    "        ])\n",
    "        self.fc_aggregate = nn.Linear(\n",
    "            in_features=out_features * cardinality,\n",
    "            out_features=out_features\n",
    "        )\n",
    "\n",
    "    def forward(self, x):\n",
    "        x = nn.parallel.parallel_apply(self.fcs, (x,) * self.card)\n",
    "        x = torch.stack(x, dim=1)\n",
    "        x = x.view(x.shape[0], -1)\n",
    "        x = self.fc_aggregate(x)\n",
    "        return x\n",
    "\n",
    "\n",
    "class InceptionMLPNet(nn.Module):\n",
    "    def __init__(self):\n",
    "        super().__init__()\n",
    "        self.lin1 = nn.Linear(in_features=784, out_features=784)\n",
    "        self.lin2 = LinearInception(in_features=784, out_features=350, cardinality=3)\n",
    "        self.lin_end = nn.Linear(in_features=350, out_features=10)\n",
    "        \n",
    "        self.relu = nn.ReLU(inplace=True)\n",
    "        self.dropout = nn.Dropout(p=0.1)\n",
    "        \n",
    "    def forward(self, x):\n",
    "        x = x.view(x.shape[0], 28 * 28)\n",
    "        x = self.lin1(x)\n",
    "        x = self.relu(x)\n",
    "        x = self.lin2(x)\n",
    "        x = self.relu(x)\n",
    "        x = self.dropout(x)\n",
    "        out = self.lin_end(x)\n",
    "        return out\n",
    "\n",
    "incmlp = InceptionMLPNet().to(device)\n",
    "dummy_pred = check_input(incmlp, device)\n",
    "print(incmlp)"
   ]
  },
  {
   "cell_type": "code",
   "execution_count": 448,
   "metadata": {},
   "outputs": [
    {
     "name": "stdout",
     "output_type": "stream",
     "text": [
      "\n",
      "* * * Training * * *\n",
      "Train Epoch: 1 [0/60000 (0%)]\tLoss: 0.450436\n",
      "Train Epoch: 1 [16000/60000 (27%)]\tLoss: 0.292167\n",
      "Train Epoch: 1 [32000/60000 (53%)]\tLoss: 0.424795\n",
      "Train Epoch: 1 [48000/60000 (80%)]\tLoss: 0.604289\n",
      "\n",
      "* * * Evaluating * * *\n",
      "Test set: Average loss: 0.0126, Accuracy: 8542/10000 (85.42%)\n",
      "\n",
      "\n",
      "* * * Training * * *\n",
      "Train Epoch: 2 [0/60000 (0%)]\tLoss: 0.613697\n",
      "Train Epoch: 2 [16000/60000 (27%)]\tLoss: 0.315931\n",
      "Train Epoch: 2 [32000/60000 (53%)]\tLoss: 0.192128\n",
      "Train Epoch: 2 [48000/60000 (80%)]\tLoss: 0.341053\n",
      "\n",
      "* * * Evaluating * * *\n",
      "Test set: Average loss: 0.0124, Accuracy: 8574/10000 (85.74%)\n",
      "\n",
      "\n",
      "* * * Training * * *\n",
      "Train Epoch: 3 [0/60000 (0%)]\tLoss: 0.190846\n",
      "Train Epoch: 3 [16000/60000 (27%)]\tLoss: 0.079334\n",
      "Train Epoch: 3 [32000/60000 (53%)]\tLoss: 0.363328\n",
      "Train Epoch: 3 [48000/60000 (80%)]\tLoss: 0.349266\n",
      "\n",
      "* * * Evaluating * * *\n",
      "Test set: Average loss: 0.0123, Accuracy: 8578/10000 (85.78%)\n",
      "\n",
      "Final acc: 85.78%\n"
     ]
    }
   ],
   "source": [
    "acc = train(incmlp, train_loader, test_loader, device, 1e-4, nb_epochs, log_interval)\n",
    "print(f'Final acc: {acc:.2f}%')"
   ]
  },
  {
   "cell_type": "markdown",
   "metadata": {},
   "source": [
    "### ConvNet só para não perder o costume.\n",
    "\n",
    "Duas convs e uma fully connected layer no final para dizer minhas classes.\n",
    "Depois de cada conv, uma relu para introduzir não-linearidade e um MaxPooling para reduzir o tamanho conforme a dimensionalidade aumenta."
   ]
  },
  {
   "cell_type": "code",
   "execution_count": 443,
   "metadata": {},
   "outputs": [
    {
     "name": "stdout",
     "output_type": "stream",
     "text": [
      "Passed.\n",
      "ConvNet(\n",
      "  (conv_1): Conv2d(1, 32, kernel_size=(3, 3), stride=(1, 1), padding=(1, 1))\n",
      "  (conv_2): Conv2d(32, 64, kernel_size=(3, 3), stride=(1, 1), padding=(1, 1))\n",
      "  (fc): Linear(in_features=3136, out_features=10, bias=True)\n",
      "  (pool): MaxPool2d(kernel_size=2, stride=2, padding=0, dilation=1, ceil_mode=False)\n",
      "  (relu): ReLU(inplace)\n",
      ")\n"
     ]
    }
   ],
   "source": [
    "class ConvNet(nn.Module):\n",
    "    def __init__(self):\n",
    "        super().__init__()\n",
    "        self.conv_1 = nn.Conv2d(in_channels=1, out_channels=32, kernel_size=3, padding=1)\n",
    "        self.conv_2 = nn.Conv2d(in_channels=32, out_channels=64, kernel_size=3, padding=1)\n",
    "        self.fc = nn.Linear(in_features=3136, out_features=10)\n",
    "        \n",
    "        self.pool = nn.MaxPool2d(kernel_size=2)\n",
    "        self.relu = nn.ReLU(inplace=True)\n",
    "        \n",
    "    def forward(self, x):\n",
    "        x = self.conv_1(x)\n",
    "        x = self.relu(x)\n",
    "        x = self.pool(x)\n",
    "        x = self.conv_2(x)\n",
    "        x = self.relu(x)\n",
    "        x = self.pool(x)\n",
    "        x = x.view(x.shape[0], 64 * 7 * 7) # Ou x = x.view(x.shape[0], -1)\n",
    "        out = self.fc(x)\n",
    "        return out\n",
    "    \n",
    "convnet = ConvNet().to(device)\n",
    "dummy_pred = check_input(convnet, device)\n",
    "print(convnet)"
   ]
  },
  {
   "cell_type": "code",
   "execution_count": 445,
   "metadata": {
    "scrolled": true
   },
   "outputs": [
    {
     "name": "stdout",
     "output_type": "stream",
     "text": [
      "\n",
      "* * * Training * * *\n",
      "Train Epoch: 1 [0/60000 (0%)]\tLoss: 0.353777\n",
      "Train Epoch: 1 [16000/60000 (27%)]\tLoss: 0.151119\n",
      "Train Epoch: 1 [32000/60000 (53%)]\tLoss: 0.399603\n",
      "Train Epoch: 1 [48000/60000 (80%)]\tLoss: 0.368347\n",
      "\n",
      "* * * Evaluating * * *\n",
      "Test set: Average loss: 0.0105, Accuracy: 8813/10000 (88.13%)\n",
      "\n",
      "\n",
      "* * * Training * * *\n",
      "Train Epoch: 2 [0/60000 (0%)]\tLoss: 0.293477\n",
      "Train Epoch: 2 [16000/60000 (27%)]\tLoss: 0.235461\n",
      "Train Epoch: 2 [32000/60000 (53%)]\tLoss: 0.311738\n",
      "Train Epoch: 2 [48000/60000 (80%)]\tLoss: 0.206354\n",
      "\n",
      "* * * Evaluating * * *\n",
      "Test set: Average loss: 0.0106, Accuracy: 8808/10000 (88.08%)\n",
      "\n",
      "\n",
      "* * * Training * * *\n",
      "Train Epoch: 3 [0/60000 (0%)]\tLoss: 0.558048\n",
      "Train Epoch: 3 [16000/60000 (27%)]\tLoss: 0.381771\n",
      "Train Epoch: 3 [32000/60000 (53%)]\tLoss: 0.115153\n",
      "Train Epoch: 3 [48000/60000 (80%)]\tLoss: 0.386943\n",
      "\n",
      "* * * Evaluating * * *\n",
      "Test set: Average loss: 0.0104, Accuracy: 8841/10000 (88.41%)\n",
      "\n",
      "Final acc: 88.41%\n"
     ]
    }
   ],
   "source": [
    "acc = train(convnet, train_loader, test_loader, device, 1e-4, nb_epochs, log_interval)\n",
    "print(f'Final acc: {acc:.2f}%')"
   ]
  },
  {
   "cell_type": "markdown",
   "metadata": {},
   "source": [
    "### Observações\n",
    "Embora saibamos que MLPs são inapropriados para tarefas de imagem, porque cada neorônio fica atrelado a um pixel o que as não permite que o modelo se torne invariante a translações, redimensionamentos, etc., decidimos usá-los mesmo assim, pois os conjuntos de dados que escolhemos (MNIST e FashionMNIST) contêm apenas imagens bem centralizadas e de dimensões muito semelhantes entre si.\n",
    "\n",
    "Nosso melhor resultado foi no MLP tradicional com learning rate de 0.001 por três epochs. Dividir a learning rate por 10 e treinar mais dois epochs conseguiu um ganho de aproximadamente 1% e é o que fizemos para todos modelos.\n",
    "\n",
    "### State of the art\n",
    "Estado da arte (sem deep learning) do dataset que escolhemos é 89.7% accuracy e o modelo usado é um SVC (roda em tempo quadrático em relação ao número de instâncias) e foi treinado por 1h12min (mais detalhes http://fashion-mnist.s3-website.eu-central-1.amazonaws.com/), enquanto nossos modelos todos demoram menos de 1 minuto para serem treinados.\n",
    "\n",
    "Estado da arte atual do dataset é do github user [@ajbrock](https://github.com/ajbrock) com 96.7% de accuracy usando uma [wide residual network](https://arxiv.org/pdf/1605.07146.pdf) de 40 camadas e largura 4 (8,9M paramêtros).\n",
    "\n",
    "### Our results\n",
    "Our data augmentation steps are just standard preprocessing (mean/std subtraction/division) and random horizontal flips.\n",
    "\n",
    "Acc: 85.96% na MLPNet.  Hyperparams: 3 epochs 1e-3 + 3 epochs 1e-4.\n",
    "\n",
    "Acc: 85.78% na IncMLP.  Hyperparams: 3 epochs 1e-3 + 3 epochs 1e-4.\n",
    "\n",
    "Acc: 88.41% na ConvNet. Hyperparams: 3 epochs 1e-3 + 3 epochs 1e-4.\n",
    "\n",
    "### Conclusão\n",
    "Mais epochs só fizeram nosso modelo overfit, então provavelmente estamos no limite da capacidade desses modelos (ignorando possíveis estratégias de regularização).\n",
    "\n",
    "A partir dos nossos testes empíricos, notamos que mesmo com modificações grandes, que supostamente deveriam tornar o modelo muito mais robusto, conseguimos pouquíssimos ganhos de accuracy.\n",
    "\n",
    "Na nossa opinião, isso significa que estamos nos aproximando do ponto em que a derivada da curva de ganhos em relação a esforços é quase zero, o que significa que precisamos de muito, muito mais esforços (por exemplo o state of the art com quase 9 milhões de parâmetros e nossa MPLNet com 893700, ele precisou de 10 vezes mais parâmtetros e uma estrutura muito mais complicada para 9% de melhoria) para alcançar um pouco mais de desempenho."
   ]
  }
 ],
 "metadata": {
  "kernelspec": {
   "display_name": "Python 3",
   "language": "python",
   "name": "python3"
  },
  "language_info": {
   "codemirror_mode": {
    "name": "ipython",
    "version": 3
   },
   "file_extension": ".py",
   "mimetype": "text/x-python",
   "name": "python",
   "nbconvert_exporter": "python",
   "pygments_lexer": "ipython3",
   "version": "3.7.3"
  }
 },
 "nbformat": 4,
 "nbformat_minor": 2
}
